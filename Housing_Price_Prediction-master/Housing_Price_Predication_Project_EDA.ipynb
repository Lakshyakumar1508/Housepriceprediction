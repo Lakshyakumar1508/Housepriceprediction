{
 "cells": [
  {
   "cell_type": "code",
   "execution_count": 1,
   "id": "3f05aaa7",
   "metadata": {},
   "outputs": [],
   "source": [
    "import pandas as pd\n",
    "import matplotlib.pyplot as plt\n",
    "import seaborn as sns\n",
    "import numpy as np\n",
    "import chardet#for encoding\n",
    "import warnings# to avoid the warnings\n",
    "warnings.filterwarnings('ignore')\n",
    "pd.pandas.set_option('display.max_columns',0)"
   ]
  },
  {
   "cell_type": "code",
   "execution_count": 2,
   "id": "77736a94",
   "metadata": {},
   "outputs": [
    {
     "name": "stdout",
     "output_type": "stream",
     "text": [
      "{'encoding': 'GB2312', 'confidence': 0.99, 'language': 'Chinese'}\n"
     ]
    }
   ],
   "source": [
    "#Let's see which encoding we have to apply.\n",
    "with open(\"new.csv\",\"rb\") as f:\n",
    "    result=chardet.detect(f.read(100000))\n",
    "print(result)"
   ]
  },
  {
   "cell_type": "markdown",
   "id": "1c4bc6e5",
   "metadata": {},
   "source": [
    "## About The Data Set \n",
    "url: the url which fetches the data\n",
    "\n",
    "id: the id of transaction\n",
    "\n",
    "Lng: and Lat coordinates, using the BD09 protocol.\n",
    "\n",
    "Cid: community id\n",
    "\n",
    "tradeTime: the time of transaction\n",
    "\n",
    "DOM: active days on market.\n",
    "\n",
    "followers: the number of people follow the transaction.\n",
    "\n",
    "totalPrice: the total price\n",
    "\n",
    "price: the average price by square\n",
    "\n",
    "square: the square of house\n",
    "\n",
    "livingRoom: the number of living room\n",
    "\n",
    "drawingRoom: the number of drawing room\n",
    "\n",
    "kitchen: the number of kitchen\n",
    "\n",
    "bathroom the number of bathroom\n",
    "\n",
    "floor: the height of the house.\n",
    "\n",
    "buildingType: including tower( 1 ) , bungalow( 2 )，combination of plate and tower( 3 ), plate( 4 ).\n",
    "\n",
    "constructionTime: the time of construction\n",
    "\n",
    "renovationCondition: including other( 1 ), rough( 2 ),Simplicity( 3 ), hardcover( 4 )\n",
    "\n",
    "buildingStructure: including unknow( 1 ), mixed( 2 ), brick and wood( 3 ), brick and concrete( 4 ),steel( 5 ) and steel-concrete composite ( 6 ).\n",
    "\n",
    "ladderRatio: the proportion between number of residents on the same floor and number of elevator of ladder. It describes how many ladders a resident have on average.\n",
    "\n",
    "elevator: elevator have ( 1 ) or not have elevator( 0 )\n",
    "\n",
    "fiveYearsProperty: if the owner have the property for less than 5 years,"
   ]
  },
  {
   "cell_type": "code",
   "execution_count": 3,
   "id": "af3bf488",
   "metadata": {},
   "outputs": [],
   "source": [
    "#so,we have to apply GB2312 encoding.\n",
    "data=pd.read_csv(\"new.csv\",encoding=\"GB2312\")"
   ]
  },
  {
   "cell_type": "code",
   "execution_count": 4,
   "id": "964d9bc5",
   "metadata": {
    "scrolled": true
   },
   "outputs": [
    {
     "data": {
      "text/html": [
       "<div>\n",
       "<style scoped>\n",
       "    .dataframe tbody tr th:only-of-type {\n",
       "        vertical-align: middle;\n",
       "    }\n",
       "\n",
       "    .dataframe tbody tr th {\n",
       "        vertical-align: top;\n",
       "    }\n",
       "\n",
       "    .dataframe thead th {\n",
       "        text-align: right;\n",
       "    }\n",
       "</style>\n",
       "<table border=\"1\" class=\"dataframe\">\n",
       "  <thead>\n",
       "    <tr style=\"text-align: right;\">\n",
       "      <th></th>\n",
       "      <th>url</th>\n",
       "      <th>id</th>\n",
       "      <th>Lng</th>\n",
       "      <th>Lat</th>\n",
       "      <th>Cid</th>\n",
       "      <th>tradeTime</th>\n",
       "      <th>DOM</th>\n",
       "      <th>followers</th>\n",
       "      <th>totalPrice</th>\n",
       "      <th>price</th>\n",
       "      <th>square</th>\n",
       "      <th>livingRoom</th>\n",
       "      <th>drawingRoom</th>\n",
       "      <th>kitchen</th>\n",
       "      <th>bathRoom</th>\n",
       "      <th>floor</th>\n",
       "      <th>buildingType</th>\n",
       "      <th>constructionTime</th>\n",
       "      <th>renovationCondition</th>\n",
       "      <th>buildingStructure</th>\n",
       "      <th>ladderRatio</th>\n",
       "      <th>elevator</th>\n",
       "      <th>fiveYearsProperty</th>\n",
       "      <th>subway</th>\n",
       "      <th>district</th>\n",
       "      <th>communityAverage</th>\n",
       "    </tr>\n",
       "  </thead>\n",
       "  <tbody>\n",
       "    <tr>\n",
       "      <th>0</th>\n",
       "      <td>https://bj.lianjia.com/chengjiao/101084782030....</td>\n",
       "      <td>101084782030</td>\n",
       "      <td>116.475489</td>\n",
       "      <td>40.019520</td>\n",
       "      <td>1111027376244</td>\n",
       "      <td>2016-08-09</td>\n",
       "      <td>1464.0</td>\n",
       "      <td>106</td>\n",
       "      <td>415.0</td>\n",
       "      <td>31680</td>\n",
       "      <td>131.00</td>\n",
       "      <td>2</td>\n",
       "      <td>1</td>\n",
       "      <td>1</td>\n",
       "      <td>1</td>\n",
       "      <td>高 26</td>\n",
       "      <td>1.0</td>\n",
       "      <td>2005</td>\n",
       "      <td>3</td>\n",
       "      <td>6</td>\n",
       "      <td>0.217</td>\n",
       "      <td>1.0</td>\n",
       "      <td>0.0</td>\n",
       "      <td>1.0</td>\n",
       "      <td>7</td>\n",
       "      <td>56021.0</td>\n",
       "    </tr>\n",
       "    <tr>\n",
       "      <th>1</th>\n",
       "      <td>https://bj.lianjia.com/chengjiao/101086012217....</td>\n",
       "      <td>101086012217</td>\n",
       "      <td>116.453917</td>\n",
       "      <td>39.881534</td>\n",
       "      <td>1111027381879</td>\n",
       "      <td>2016-07-28</td>\n",
       "      <td>903.0</td>\n",
       "      <td>126</td>\n",
       "      <td>575.0</td>\n",
       "      <td>43436</td>\n",
       "      <td>132.38</td>\n",
       "      <td>2</td>\n",
       "      <td>2</td>\n",
       "      <td>1</td>\n",
       "      <td>2</td>\n",
       "      <td>高 22</td>\n",
       "      <td>1.0</td>\n",
       "      <td>2004</td>\n",
       "      <td>4</td>\n",
       "      <td>6</td>\n",
       "      <td>0.667</td>\n",
       "      <td>1.0</td>\n",
       "      <td>1.0</td>\n",
       "      <td>0.0</td>\n",
       "      <td>7</td>\n",
       "      <td>71539.0</td>\n",
       "    </tr>\n",
       "    <tr>\n",
       "      <th>2</th>\n",
       "      <td>https://bj.lianjia.com/chengjiao/101086041636....</td>\n",
       "      <td>101086041636</td>\n",
       "      <td>116.561978</td>\n",
       "      <td>39.877145</td>\n",
       "      <td>1111040862969</td>\n",
       "      <td>2016-12-11</td>\n",
       "      <td>1271.0</td>\n",
       "      <td>48</td>\n",
       "      <td>1030.0</td>\n",
       "      <td>52021</td>\n",
       "      <td>198.00</td>\n",
       "      <td>3</td>\n",
       "      <td>2</td>\n",
       "      <td>1</td>\n",
       "      <td>3</td>\n",
       "      <td>中 4</td>\n",
       "      <td>4.0</td>\n",
       "      <td>2005</td>\n",
       "      <td>3</td>\n",
       "      <td>6</td>\n",
       "      <td>0.500</td>\n",
       "      <td>1.0</td>\n",
       "      <td>0.0</td>\n",
       "      <td>0.0</td>\n",
       "      <td>7</td>\n",
       "      <td>48160.0</td>\n",
       "    </tr>\n",
       "    <tr>\n",
       "      <th>3</th>\n",
       "      <td>https://bj.lianjia.com/chengjiao/101086406841....</td>\n",
       "      <td>101086406841</td>\n",
       "      <td>116.438010</td>\n",
       "      <td>40.076114</td>\n",
       "      <td>1111043185817</td>\n",
       "      <td>2016-09-30</td>\n",
       "      <td>965.0</td>\n",
       "      <td>138</td>\n",
       "      <td>297.5</td>\n",
       "      <td>22202</td>\n",
       "      <td>134.00</td>\n",
       "      <td>3</td>\n",
       "      <td>1</td>\n",
       "      <td>1</td>\n",
       "      <td>1</td>\n",
       "      <td>底 21</td>\n",
       "      <td>1.0</td>\n",
       "      <td>2008</td>\n",
       "      <td>1</td>\n",
       "      <td>6</td>\n",
       "      <td>0.273</td>\n",
       "      <td>1.0</td>\n",
       "      <td>0.0</td>\n",
       "      <td>0.0</td>\n",
       "      <td>6</td>\n",
       "      <td>51238.0</td>\n",
       "    </tr>\n",
       "    <tr>\n",
       "      <th>4</th>\n",
       "      <td>https://bj.lianjia.com/chengjiao/101086920653....</td>\n",
       "      <td>101086920653</td>\n",
       "      <td>116.428392</td>\n",
       "      <td>39.886229</td>\n",
       "      <td>1111027381174</td>\n",
       "      <td>2016-08-28</td>\n",
       "      <td>927.0</td>\n",
       "      <td>286</td>\n",
       "      <td>392.0</td>\n",
       "      <td>48396</td>\n",
       "      <td>81.00</td>\n",
       "      <td>2</td>\n",
       "      <td>1</td>\n",
       "      <td>1</td>\n",
       "      <td>1</td>\n",
       "      <td>中 6</td>\n",
       "      <td>4.0</td>\n",
       "      <td>1960</td>\n",
       "      <td>2</td>\n",
       "      <td>2</td>\n",
       "      <td>0.333</td>\n",
       "      <td>0.0</td>\n",
       "      <td>1.0</td>\n",
       "      <td>1.0</td>\n",
       "      <td>1</td>\n",
       "      <td>62588.0</td>\n",
       "    </tr>\n",
       "  </tbody>\n",
       "</table>\n",
       "</div>"
      ],
      "text/plain": [
       "                                                 url  ... communityAverage\n",
       "0  https://bj.lianjia.com/chengjiao/101084782030....  ...          56021.0\n",
       "1  https://bj.lianjia.com/chengjiao/101086012217....  ...          71539.0\n",
       "2  https://bj.lianjia.com/chengjiao/101086041636....  ...          48160.0\n",
       "3  https://bj.lianjia.com/chengjiao/101086406841....  ...          51238.0\n",
       "4  https://bj.lianjia.com/chengjiao/101086920653....  ...          62588.0\n",
       "\n",
       "[5 rows x 26 columns]"
      ]
     },
     "execution_count": 4,
     "metadata": {},
     "output_type": "execute_result"
    }
   ],
   "source": [
    "data.head()"
   ]
  },
  {
   "cell_type": "code",
   "execution_count": 5,
   "id": "808de280",
   "metadata": {},
   "outputs": [
    {
     "data": {
      "text/plain": [
       "(318851, 26)"
      ]
     },
     "execution_count": 5,
     "metadata": {},
     "output_type": "execute_result"
    }
   ],
   "source": [
    "data.shape"
   ]
  },
  {
   "cell_type": "code",
   "execution_count": 6,
   "id": "2f5e0b6d",
   "metadata": {},
   "outputs": [],
   "source": [
    "df0=data.copy()"
   ]
  },
  {
   "cell_type": "code",
   "execution_count": 7,
   "id": "defb8e61",
   "metadata": {},
   "outputs": [
    {
     "data": {
      "text/plain": [
       "Index(['url', 'id', 'Lng', 'Lat', 'Cid', 'tradeTime', 'DOM', 'followers',\n",
       "       'totalPrice', 'price', 'square', 'livingRoom', 'drawingRoom', 'kitchen',\n",
       "       'bathRoom', 'floor', 'buildingType', 'constructionTime',\n",
       "       'renovationCondition', 'buildingStructure', 'ladderRatio', 'elevator',\n",
       "       'fiveYearsProperty', 'subway', 'district', 'communityAverage'],\n",
       "      dtype='object')"
      ]
     },
     "execution_count": 7,
     "metadata": {},
     "output_type": "execute_result"
    }
   ],
   "source": [
    "data.columns"
   ]
  },
  {
   "cell_type": "code",
   "execution_count": 8,
   "id": "4e58428e",
   "metadata": {},
   "outputs": [
    {
     "name": "stdout",
     "output_type": "stream",
     "text": [
      "<class 'pandas.core.frame.DataFrame'>\n",
      "RangeIndex: 318851 entries, 0 to 318850\n",
      "Data columns (total 26 columns):\n",
      " #   Column               Non-Null Count   Dtype  \n",
      "---  ------               --------------   -----  \n",
      " 0   url                  318851 non-null  object \n",
      " 1   id                   318851 non-null  object \n",
      " 2   Lng                  318851 non-null  float64\n",
      " 3   Lat                  318851 non-null  float64\n",
      " 4   Cid                  318851 non-null  int64  \n",
      " 5   tradeTime            318851 non-null  object \n",
      " 6   DOM                  160874 non-null  float64\n",
      " 7   followers            318851 non-null  int64  \n",
      " 8   totalPrice           318851 non-null  float64\n",
      " 9   price                318851 non-null  int64  \n",
      " 10  square               318851 non-null  float64\n",
      " 11  livingRoom           318851 non-null  object \n",
      " 12  drawingRoom          318851 non-null  object \n",
      " 13  kitchen              318851 non-null  int64  \n",
      " 14  bathRoom             318851 non-null  object \n",
      " 15  floor                318851 non-null  object \n",
      " 16  buildingType         316830 non-null  float64\n",
      " 17  constructionTime     318851 non-null  object \n",
      " 18  renovationCondition  318851 non-null  int64  \n",
      " 19  buildingStructure    318851 non-null  int64  \n",
      " 20  ladderRatio          318851 non-null  float64\n",
      " 21  elevator             318819 non-null  float64\n",
      " 22  fiveYearsProperty    318819 non-null  float64\n",
      " 23  subway               318819 non-null  float64\n",
      " 24  district             318851 non-null  int64  \n",
      " 25  communityAverage     318388 non-null  float64\n",
      "dtypes: float64(11), int64(7), object(8)\n",
      "memory usage: 63.2+ MB\n"
     ]
    }
   ],
   "source": [
    "data.info()"
   ]
  },
  {
   "cell_type": "code",
   "execution_count": 9,
   "id": "39ce8c82",
   "metadata": {},
   "outputs": [
    {
     "data": {
      "text/plain": [
       "url                         0\n",
       "id                          0\n",
       "Lng                         0\n",
       "Lat                         0\n",
       "Cid                         0\n",
       "tradeTime                   0\n",
       "DOM                    157977\n",
       "followers                   0\n",
       "totalPrice                  0\n",
       "price                       0\n",
       "square                      0\n",
       "livingRoom                  0\n",
       "drawingRoom                 0\n",
       "kitchen                     0\n",
       "bathRoom                    0\n",
       "floor                       0\n",
       "buildingType             2021\n",
       "constructionTime            0\n",
       "renovationCondition         0\n",
       "buildingStructure           0\n",
       "ladderRatio                 0\n",
       "elevator                   32\n",
       "fiveYearsProperty          32\n",
       "subway                     32\n",
       "district                    0\n",
       "communityAverage          463\n",
       "dtype: int64"
      ]
     },
     "execution_count": 9,
     "metadata": {},
     "output_type": "execute_result"
    }
   ],
   "source": [
    "data.isnull().sum()"
   ]
  },
  {
   "cell_type": "markdown",
   "id": "b7a4c831",
   "metadata": {},
   "source": [
    "\"DOM\" Have almost 50% missing data.so, we can remove that columns.\n",
    "\n",
    "buildingType  --->Missing Value ---->2021\n",
    "\n",
    "elevator----->Missing Value --->32\n",
    "\n",
    "fiveYearsProperty ---->Missing Value --->32\n",
    "\n",
    "Subway --->Missing Value ---->32\n",
    "\n",
    "communityAverage --->Missing Value --->32"
   ]
  },
  {
   "cell_type": "code",
   "execution_count": 10,
   "id": "9280b10e",
   "metadata": {},
   "outputs": [
    {
     "data": {
      "text/plain": [
       "<AxesSubplot:>"
      ]
     },
     "execution_count": 10,
     "metadata": {},
     "output_type": "execute_result"
    },
    {
     "data": {
      "image/png": "[encoded data removed]",
      "text/plain": [
       "<Figure size 432x288 with 1 Axes>"
      ]
     },
     "metadata": {
      "needs_background": "light"
     },
     "output_type": "display_data"
    }
   ],
   "source": [
    "#Let's Visualize the missing value\n",
    "sns.heatmap(data.isnull(),yticklabels=False,cbar=False)"
   ]
  },
  {
   "cell_type": "markdown",
   "id": "27da79ab",
   "metadata": {},
   "source": [
    "It's Clearly visible DOM have almost half value are missing and building type also have some missing value. so,for DOM columns it's better to drop."
   ]
  },
  {
   "cell_type": "code",
   "execution_count": 11,
   "id": "578383a3",
   "metadata": {},
   "outputs": [],
   "source": [
    "#Drop 'DOM' Columns\n",
    "data.drop(columns=['DOM'],axis=1,inplace=True)"
   ]
  },
  {
   "cell_type": "code",
   "execution_count": 12,
   "id": "5694fdbf",
   "metadata": {},
   "outputs": [
    {
     "data": {
      "text/plain": [
       "(318851, 25)"
      ]
     },
     "execution_count": 12,
     "metadata": {},
     "output_type": "execute_result"
    }
   ],
   "source": [
    "data.shape"
   ]
  },
  {
   "cell_type": "code",
   "execution_count": 13,
   "id": "feb2e359",
   "metadata": {},
   "outputs": [
    {
     "data": {
      "text/plain": [
       "url                       0\n",
       "id                        0\n",
       "Lng                       0\n",
       "Lat                       0\n",
       "Cid                       0\n",
       "tradeTime                 0\n",
       "followers                 0\n",
       "totalPrice                0\n",
       "price                     0\n",
       "square                    0\n",
       "livingRoom                0\n",
       "drawingRoom               0\n",
       "kitchen                   0\n",
       "bathRoom                  0\n",
       "floor                     0\n",
       "buildingType           2021\n",
       "constructionTime          0\n",
       "renovationCondition       0\n",
       "buildingStructure         0\n",
       "ladderRatio               0\n",
       "elevator                 32\n",
       "fiveYearsProperty        32\n",
       "subway                   32\n",
       "district                  0\n",
       "communityAverage        463\n",
       "dtype: int64"
      ]
     },
     "execution_count": 13,
     "metadata": {},
     "output_type": "execute_result"
    }
   ],
   "source": [
    "data.isnull().sum()"
   ]
  },
  {
   "cell_type": "markdown",
   "id": "e7dfecd6",
   "metadata": {},
   "source": [
    "Replacing Our missing Data with Median Value"
   ]
  },
  {
   "cell_type": "code",
   "execution_count": 14,
   "id": "78b07ab3",
   "metadata": {},
   "outputs": [],
   "source": [
    "data['buildingType'].fillna(data.buildingType.mode(),inplace=True)"
   ]
  },
  {
   "cell_type": "code",
   "execution_count": 15,
   "id": "bbfbd04b",
   "metadata": {},
   "outputs": [],
   "source": [
    "data.elevator.fillna(data.elevator.mode(),inplace=True)"
   ]
  },
  {
   "cell_type": "code",
   "execution_count": 16,
   "id": "914d482b",
   "metadata": {},
   "outputs": [],
   "source": [
    "data.fiveYearsProperty.fillna(data.fiveYearsProperty.mode(),inplace=True)"
   ]
  },
  {
   "cell_type": "code",
   "execution_count": 17,
   "id": "466e0683",
   "metadata": {},
   "outputs": [],
   "source": [
    "data.subway.fillna(data.subway.median(),inplace=True)"
   ]
  },
  {
   "cell_type": "code",
   "execution_count": 18,
   "id": "822c6faa",
   "metadata": {},
   "outputs": [],
   "source": [
    "data.communityAverage.fillna(data.communityAverage.median(),inplace=True)"
   ]
  },
  {
   "cell_type": "code",
   "execution_count": 19,
   "id": "413270a7",
   "metadata": {},
   "outputs": [
    {
     "data": {
      "text/plain": [
       "array([2, 3, 1, 4, 5, 6, 9, 0, 7, 8, '1', '4', '3', '2', '5', '7', '9',\n",
       "       '6', '0', '#NAME?', '8'], dtype=object)"
      ]
     },
     "execution_count": 19,
     "metadata": {},
     "output_type": "execute_result"
    }
   ],
   "source": [
    "data.livingRoom.unique()"
   ]
  },
  {
   "cell_type": "code",
   "execution_count": 20,
   "id": "a4f00ec3",
   "metadata": {},
   "outputs": [
    {
     "data": {
      "text/plain": [
       "array(['高 26', '高 22', '中 4', '底 21', '中 6', '中 8', '高 6', '高 10', '中 23',\n",
       "       '底 11', '底 3', '高 24', '低 23', '中 19', '高 18', '低 25', '中 12',\n",
       "       '中 14', '中 30', '中 27', '中 5', '低 18', '底 28', '中 11', '低 9',\n",
       "       '顶 7', '顶 27', '低 6', '中 17', '顶 6', '中 24', '中 15', '底 5', '中 29',\n",
       "       '顶 19', '顶 5', '中 9', '低 22', '顶 18', '低 16', '高 13', '高 9',\n",
       "       '高 17', '底 6', '中 28', '低 26', '底 15', '高 16', '底 2', '低 7',\n",
       "       '中 13', '低 33', '底 14', '高 15', '底 4', '顶 11', '中 32', '顶 16',\n",
       "       '底 18', '顶 17', '低 14', '低 10', '底 20', '高 12', '低 31', '低 30',\n",
       "       '低 19', '低 12', '中 10', '中 16', '顶 20', '底 19', '中 31', '低 13',\n",
       "       '底 10', '高 25', '中 21', '中 20', '高 20', '低 21', '低 24', '顶 4',\n",
       "       '高 21', '高 7', '中 22', '底 1', '中 7', '底 8', '顶 15', '中 18', '高 28',\n",
       "       '顶 14', '顶 13', '低 20', '底 26', '低 17', '顶 24', '底 23', '顶 3',\n",
       "       '顶 21', '底 24', '高 30', '高 11', '底 25', '高 27', '底 9', '低 11',\n",
       "       '低 28', '低 15', '顶 26', '低 34', '顶 12', '中 25', '高 8', '底 17',\n",
       "       '高 32', '高 19', '底 7', '顶 28', '顶 9', '高 31', '中 26', '顶 2', '顶 8',\n",
       "       '底 32', '中 42', '底 30', '低 32', '底 16', '低 3', '底 22', '高 14',\n",
       "       '高 23', '底 27', '底 13', '低 27', '顶 23', '低 29', '顶 22', '高 29',\n",
       "       '中 34', '顶 25', '高 34', '顶 10', '低 37', '底 12', '未知 6', '顶 32',\n",
       "       '低 42', '顶 30', '底 33', '高 42', '低 8', '高 33', '中 33', '顶 29',\n",
       "       '底 29', '未知 15', '高 37', '低 36', '低 35', '顶 34', '高 36', '中 37',\n",
       "       '中 35', '底 31', '未知 12', '顶 31', '低 63', '未知 21', '底 34', '中 57',\n",
       "       '顶 33', '钢混结构', '混合结构', '未知 11', '未知 7', '未知 10', '未知 18', '未知 8',\n",
       "       '未知 14', '未知 4', '未知 5', '未知 3', '未知 27', '未知 25', '未知 20',\n",
       "       '未知 26', '未知 9', '未知 22', '未知 23', '未知 16', '未知 19', '未知 28',\n",
       "       '中 36', '未知 17', '未知 13', '低 2', '未知 29', '未知 24', '未知 30',\n",
       "       '未知 31', '低 5'], dtype=object)"
      ]
     },
     "execution_count": 20,
     "metadata": {},
     "output_type": "execute_result"
    }
   ],
   "source": [
    "data.floor.unique()\n",
    "#so,floor have a chinese character..."
   ]
  },
  {
   "cell_type": "code",
   "execution_count": 21,
   "id": "014175d6",
   "metadata": {},
   "outputs": [
    {
     "data": {
      "text/plain": [
       "array([1, 2, 3, 0, 4, 5, 6, 7, 2006, 2003, 1990, 2000, 1996, 2005, 2011,\n",
       "       '1', '2', '0', '3', '4', '5', '未知', 1994, 2004, '2003', '7'],\n",
       "      dtype=object)"
      ]
     },
     "execution_count": 21,
     "metadata": {},
     "output_type": "execute_result"
    }
   ],
   "source": [
    "data.bathRoom.unique()"
   ]
  },
  {
   "cell_type": "code",
   "execution_count": 22,
   "id": "885847bf",
   "metadata": {},
   "outputs": [
    {
     "data": {
      "text/plain": [
       "array([1, 2, 0, 4, 3, 5, '0', '1', '2', '3', '4', '中 14', '中 15', '中 16',\n",
       "       '中 6', '高 14', '顶 6', '低 6', '低 16', '高 12', '低 15', '5', '高 6',\n",
       "       '底 28', '底 11', '中 24', '底 20', '中 22'], dtype=object)"
      ]
     },
     "execution_count": 22,
     "metadata": {},
     "output_type": "execute_result"
    }
   ],
   "source": [
    "data.drawingRoom.unique()"
   ]
  },
  {
   "cell_type": "code",
   "execution_count": 23,
   "id": "77d4f56c",
   "metadata": {},
   "outputs": [
    {
     "data": {
      "text/html": [
       "<div>\n",
       "<style scoped>\n",
       "    .dataframe tbody tr th:only-of-type {\n",
       "        vertical-align: middle;\n",
       "    }\n",
       "\n",
       "    .dataframe tbody tr th {\n",
       "        vertical-align: top;\n",
       "    }\n",
       "\n",
       "    .dataframe thead th {\n",
       "        text-align: right;\n",
       "    }\n",
       "</style>\n",
       "<table border=\"1\" class=\"dataframe\">\n",
       "  <thead>\n",
       "    <tr style=\"text-align: right;\">\n",
       "      <th></th>\n",
       "      <th>url</th>\n",
       "      <th>id</th>\n",
       "      <th>Lng</th>\n",
       "      <th>Lat</th>\n",
       "      <th>Cid</th>\n",
       "      <th>tradeTime</th>\n",
       "      <th>followers</th>\n",
       "      <th>totalPrice</th>\n",
       "      <th>price</th>\n",
       "      <th>square</th>\n",
       "      <th>livingRoom</th>\n",
       "      <th>drawingRoom</th>\n",
       "      <th>kitchen</th>\n",
       "      <th>bathRoom</th>\n",
       "      <th>floor</th>\n",
       "      <th>buildingType</th>\n",
       "      <th>constructionTime</th>\n",
       "      <th>renovationCondition</th>\n",
       "      <th>buildingStructure</th>\n",
       "      <th>ladderRatio</th>\n",
       "      <th>elevator</th>\n",
       "      <th>fiveYearsProperty</th>\n",
       "      <th>subway</th>\n",
       "      <th>district</th>\n",
       "      <th>communityAverage</th>\n",
       "    </tr>\n",
       "  </thead>\n",
       "  <tbody>\n",
       "    <tr>\n",
       "      <th>0</th>\n",
       "      <td>https://bj.lianjia.com/chengjiao/101084782030....</td>\n",
       "      <td>101084782030</td>\n",
       "      <td>116.475489</td>\n",
       "      <td>40.019520</td>\n",
       "      <td>1111027376244</td>\n",
       "      <td>2016</td>\n",
       "      <td>106</td>\n",
       "      <td>415.0</td>\n",
       "      <td>31680</td>\n",
       "      <td>131.00</td>\n",
       "      <td>2</td>\n",
       "      <td>1</td>\n",
       "      <td>1</td>\n",
       "      <td>1</td>\n",
       "      <td>高 26</td>\n",
       "      <td>1.0</td>\n",
       "      <td>2005</td>\n",
       "      <td>3</td>\n",
       "      <td>6</td>\n",
       "      <td>0.217</td>\n",
       "      <td>1.0</td>\n",
       "      <td>0.0</td>\n",
       "      <td>1.0</td>\n",
       "      <td>7</td>\n",
       "      <td>56021.0</td>\n",
       "    </tr>\n",
       "    <tr>\n",
       "      <th>1</th>\n",
       "      <td>https://bj.lianjia.com/chengjiao/101086012217....</td>\n",
       "      <td>101086012217</td>\n",
       "      <td>116.453917</td>\n",
       "      <td>39.881534</td>\n",
       "      <td>1111027381879</td>\n",
       "      <td>2016</td>\n",
       "      <td>126</td>\n",
       "      <td>575.0</td>\n",
       "      <td>43436</td>\n",
       "      <td>132.38</td>\n",
       "      <td>2</td>\n",
       "      <td>2</td>\n",
       "      <td>1</td>\n",
       "      <td>2</td>\n",
       "      <td>高 22</td>\n",
       "      <td>1.0</td>\n",
       "      <td>2004</td>\n",
       "      <td>4</td>\n",
       "      <td>6</td>\n",
       "      <td>0.667</td>\n",
       "      <td>1.0</td>\n",
       "      <td>1.0</td>\n",
       "      <td>0.0</td>\n",
       "      <td>7</td>\n",
       "      <td>71539.0</td>\n",
       "    </tr>\n",
       "    <tr>\n",
       "      <th>2</th>\n",
       "      <td>https://bj.lianjia.com/chengjiao/101086041636....</td>\n",
       "      <td>101086041636</td>\n",
       "      <td>116.561978</td>\n",
       "      <td>39.877145</td>\n",
       "      <td>1111040862969</td>\n",
       "      <td>2016</td>\n",
       "      <td>48</td>\n",
       "      <td>1030.0</td>\n",
       "      <td>52021</td>\n",
       "      <td>198.00</td>\n",
       "      <td>3</td>\n",
       "      <td>2</td>\n",
       "      <td>1</td>\n",
       "      <td>3</td>\n",
       "      <td>中 4</td>\n",
       "      <td>4.0</td>\n",
       "      <td>2005</td>\n",
       "      <td>3</td>\n",
       "      <td>6</td>\n",
       "      <td>0.500</td>\n",
       "      <td>1.0</td>\n",
       "      <td>0.0</td>\n",
       "      <td>0.0</td>\n",
       "      <td>7</td>\n",
       "      <td>48160.0</td>\n",
       "    </tr>\n",
       "    <tr>\n",
       "      <th>3</th>\n",
       "      <td>https://bj.lianjia.com/chengjiao/101086406841....</td>\n",
       "      <td>101086406841</td>\n",
       "      <td>116.438010</td>\n",
       "      <td>40.076114</td>\n",
       "      <td>1111043185817</td>\n",
       "      <td>2016</td>\n",
       "      <td>138</td>\n",
       "      <td>297.5</td>\n",
       "      <td>22202</td>\n",
       "      <td>134.00</td>\n",
       "      <td>3</td>\n",
       "      <td>1</td>\n",
       "      <td>1</td>\n",
       "      <td>1</td>\n",
       "      <td>底 21</td>\n",
       "      <td>1.0</td>\n",
       "      <td>2008</td>\n",
       "      <td>1</td>\n",
       "      <td>6</td>\n",
       "      <td>0.273</td>\n",
       "      <td>1.0</td>\n",
       "      <td>0.0</td>\n",
       "      <td>0.0</td>\n",
       "      <td>6</td>\n",
       "      <td>51238.0</td>\n",
       "    </tr>\n",
       "    <tr>\n",
       "      <th>4</th>\n",
       "      <td>https://bj.lianjia.com/chengjiao/101086920653....</td>\n",
       "      <td>101086920653</td>\n",
       "      <td>116.428392</td>\n",
       "      <td>39.886229</td>\n",
       "      <td>1111027381174</td>\n",
       "      <td>2016</td>\n",
       "      <td>286</td>\n",
       "      <td>392.0</td>\n",
       "      <td>48396</td>\n",
       "      <td>81.00</td>\n",
       "      <td>2</td>\n",
       "      <td>1</td>\n",
       "      <td>1</td>\n",
       "      <td>1</td>\n",
       "      <td>中 6</td>\n",
       "      <td>4.0</td>\n",
       "      <td>1960</td>\n",
       "      <td>2</td>\n",
       "      <td>2</td>\n",
       "      <td>0.333</td>\n",
       "      <td>0.0</td>\n",
       "      <td>1.0</td>\n",
       "      <td>1.0</td>\n",
       "      <td>1</td>\n",
       "      <td>62588.0</td>\n",
       "    </tr>\n",
       "  </tbody>\n",
       "</table>\n",
       "</div>"
      ],
      "text/plain": [
       "                                                 url  ... communityAverage\n",
       "0  https://bj.lianjia.com/chengjiao/101084782030....  ...          56021.0\n",
       "1  https://bj.lianjia.com/chengjiao/101086012217....  ...          71539.0\n",
       "2  https://bj.lianjia.com/chengjiao/101086041636....  ...          48160.0\n",
       "3  https://bj.lianjia.com/chengjiao/101086406841....  ...          51238.0\n",
       "4  https://bj.lianjia.com/chengjiao/101086920653....  ...          62588.0\n",
       "\n",
       "[5 rows x 25 columns]"
      ]
     },
     "execution_count": 23,
     "metadata": {},
     "output_type": "execute_result"
    }
   ],
   "source": [
    "def Trade_Time(x):\n",
    "    return x[0:4]\n",
    "data['tradeTime']=data['tradeTime'].apply(Trade_Time)\n",
    "data.head()"
   ]
  },
  {
   "cell_type": "markdown",
   "id": "0b9991bb",
   "metadata": {},
   "source": [
    "### Handling these Column in right Data Type "
   ]
  },
  {
   "cell_type": "code",
   "execution_count": 24,
   "id": "137f3794",
   "metadata": {},
   "outputs": [],
   "source": [
    "#convert tradetime into int numeric\n",
    "data['tradeTime'] = pd.to_numeric(data['tradeTime'])\n",
    "data['livingRoom'] = data['livingRoom'].apply(pd.to_numeric, errors='coerce')\n",
    "data['drawingRoom'] = data['drawingRoom'].apply(pd.to_numeric, errors='coerce')\n",
    "data['bathRoom'] = data['bathRoom'].apply(pd.to_numeric, errors='coerce')\n",
    "#convert ConstructionTime into int numeric\n",
    "data['constructionTime'] = data['constructionTime'].apply(pd.to_numeric, errors='coerce')"
   ]
  },
  {
   "cell_type": "markdown",
   "id": "ba95662b",
   "metadata": {},
   "source": [
    "we,can't apply this method for floor columns Because all the value are not numeric."
   ]
  },
  {
   "cell_type": "code",
   "execution_count": 25,
   "id": "9d335e51",
   "metadata": {},
   "outputs": [
    {
     "data": {
      "text/plain": [
       "array([ 2.,  3.,  1.,  4.,  5.,  6.,  9.,  0.,  7.,  8., nan])"
      ]
     },
     "execution_count": 25,
     "metadata": {},
     "output_type": "execute_result"
    }
   ],
   "source": [
    "#now if we check livingRoom Column it is clean data.\n",
    "data.livingRoom.unique()"
   ]
  },
  {
   "cell_type": "markdown",
   "id": "757765bf",
   "metadata": {},
   "source": [
    "#### Handling  Floor Columns"
   ]
  },
  {
   "cell_type": "code",
   "execution_count": 26,
   "id": "e4a12021",
   "metadata": {},
   "outputs": [],
   "source": [
    "#Now,Split the column into a Floor_Type and Floor_Height\n",
    "def Floor_Type(x):\n",
    "    return x.split(' ')[0]\n",
    "\n",
    "def Floor_Height(y):\n",
    "    try:\n",
    "        return int(y.split(' ')[1])\n",
    "    except:\n",
    "        return np.nan\n",
    "\n",
    "data['floor_type']=data['floor'].apply(Floor_Type)    \n",
    "data['floor_height']=data['floor'].apply(Floor_Height)"
   ]
  },
  {
   "cell_type": "code",
   "execution_count": 27,
   "id": "0ceda937",
   "metadata": {},
   "outputs": [
    {
     "data": {
      "text/plain": [
       "Index(['url', 'id', 'Lng', 'Lat', 'Cid', 'tradeTime', 'followers',\n",
       "       'totalPrice', 'price', 'square', 'livingRoom', 'drawingRoom', 'kitchen',\n",
       "       'bathRoom', 'floor', 'buildingType', 'constructionTime',\n",
       "       'renovationCondition', 'buildingStructure', 'ladderRatio', 'elevator',\n",
       "       'fiveYearsProperty', 'subway', 'district', 'communityAverage',\n",
       "       'floor_type', 'floor_height'],\n",
       "      dtype='object')"
      ]
     },
     "execution_count": 27,
     "metadata": {},
     "output_type": "execute_result"
    }
   ],
   "source": [
    "data.columns"
   ]
  },
  {
   "cell_type": "markdown",
   "id": "2c0c5f7d",
   "metadata": {},
   "source": [
    "### Let's Drop unnecessary columns \n",
    "As for the price column, we drop it because price is just totalPrice/square, which are the features already in the dataset\n"
   ]
  },
  {
   "cell_type": "code",
   "execution_count": 28,
   "id": "151d4494",
   "metadata": {},
   "outputs": [
    {
     "data": {
      "text/html": [
       "<div>\n",
       "<style scoped>\n",
       "    .dataframe tbody tr th:only-of-type {\n",
       "        vertical-align: middle;\n",
       "    }\n",
       "\n",
       "    .dataframe tbody tr th {\n",
       "        vertical-align: top;\n",
       "    }\n",
       "\n",
       "    .dataframe thead th {\n",
       "        text-align: right;\n",
       "    }\n",
       "</style>\n",
       "<table border=\"1\" class=\"dataframe\">\n",
       "  <thead>\n",
       "    <tr style=\"text-align: right;\">\n",
       "      <th></th>\n",
       "      <th>Lng</th>\n",
       "      <th>Lat</th>\n",
       "      <th>tradeTime</th>\n",
       "      <th>followers</th>\n",
       "      <th>totalPrice</th>\n",
       "      <th>square</th>\n",
       "      <th>livingRoom</th>\n",
       "      <th>drawingRoom</th>\n",
       "      <th>kitchen</th>\n",
       "      <th>bathRoom</th>\n",
       "      <th>buildingType</th>\n",
       "      <th>constructionTime</th>\n",
       "      <th>renovationCondition</th>\n",
       "      <th>buildingStructure</th>\n",
       "      <th>ladderRatio</th>\n",
       "      <th>elevator</th>\n",
       "      <th>fiveYearsProperty</th>\n",
       "      <th>subway</th>\n",
       "      <th>district</th>\n",
       "      <th>communityAverage</th>\n",
       "      <th>floor_type</th>\n",
       "      <th>floor_height</th>\n",
       "    </tr>\n",
       "  </thead>\n",
       "  <tbody>\n",
       "    <tr>\n",
       "      <th>0</th>\n",
       "      <td>116.475489</td>\n",
       "      <td>40.019520</td>\n",
       "      <td>2016</td>\n",
       "      <td>106</td>\n",
       "      <td>415.0</td>\n",
       "      <td>131.00</td>\n",
       "      <td>2.0</td>\n",
       "      <td>1.0</td>\n",
       "      <td>1</td>\n",
       "      <td>1.0</td>\n",
       "      <td>1.0</td>\n",
       "      <td>2005.0</td>\n",
       "      <td>3</td>\n",
       "      <td>6</td>\n",
       "      <td>0.217</td>\n",
       "      <td>1.0</td>\n",
       "      <td>0.0</td>\n",
       "      <td>1.0</td>\n",
       "      <td>7</td>\n",
       "      <td>56021.0</td>\n",
       "      <td>高</td>\n",
       "      <td>26.0</td>\n",
       "    </tr>\n",
       "    <tr>\n",
       "      <th>1</th>\n",
       "      <td>116.453917</td>\n",
       "      <td>39.881534</td>\n",
       "      <td>2016</td>\n",
       "      <td>126</td>\n",
       "      <td>575.0</td>\n",
       "      <td>132.38</td>\n",
       "      <td>2.0</td>\n",
       "      <td>2.0</td>\n",
       "      <td>1</td>\n",
       "      <td>2.0</td>\n",
       "      <td>1.0</td>\n",
       "      <td>2004.0</td>\n",
       "      <td>4</td>\n",
       "      <td>6</td>\n",
       "      <td>0.667</td>\n",
       "      <td>1.0</td>\n",
       "      <td>1.0</td>\n",
       "      <td>0.0</td>\n",
       "      <td>7</td>\n",
       "      <td>71539.0</td>\n",
       "      <td>高</td>\n",
       "      <td>22.0</td>\n",
       "    </tr>\n",
       "    <tr>\n",
       "      <th>2</th>\n",
       "      <td>116.561978</td>\n",
       "      <td>39.877145</td>\n",
       "      <td>2016</td>\n",
       "      <td>48</td>\n",
       "      <td>1030.0</td>\n",
       "      <td>198.00</td>\n",
       "      <td>3.0</td>\n",
       "      <td>2.0</td>\n",
       "      <td>1</td>\n",
       "      <td>3.0</td>\n",
       "      <td>4.0</td>\n",
       "      <td>2005.0</td>\n",
       "      <td>3</td>\n",
       "      <td>6</td>\n",
       "      <td>0.500</td>\n",
       "      <td>1.0</td>\n",
       "      <td>0.0</td>\n",
       "      <td>0.0</td>\n",
       "      <td>7</td>\n",
       "      <td>48160.0</td>\n",
       "      <td>中</td>\n",
       "      <td>4.0</td>\n",
       "    </tr>\n",
       "    <tr>\n",
       "      <th>3</th>\n",
       "      <td>116.438010</td>\n",
       "      <td>40.076114</td>\n",
       "      <td>2016</td>\n",
       "      <td>138</td>\n",
       "      <td>297.5</td>\n",
       "      <td>134.00</td>\n",
       "      <td>3.0</td>\n",
       "      <td>1.0</td>\n",
       "      <td>1</td>\n",
       "      <td>1.0</td>\n",
       "      <td>1.0</td>\n",
       "      <td>2008.0</td>\n",
       "      <td>1</td>\n",
       "      <td>6</td>\n",
       "      <td>0.273</td>\n",
       "      <td>1.0</td>\n",
       "      <td>0.0</td>\n",
       "      <td>0.0</td>\n",
       "      <td>6</td>\n",
       "      <td>51238.0</td>\n",
       "      <td>底</td>\n",
       "      <td>21.0</td>\n",
       "    </tr>\n",
       "    <tr>\n",
       "      <th>4</th>\n",
       "      <td>116.428392</td>\n",
       "      <td>39.886229</td>\n",
       "      <td>2016</td>\n",
       "      <td>286</td>\n",
       "      <td>392.0</td>\n",
       "      <td>81.00</td>\n",
       "      <td>2.0</td>\n",
       "      <td>1.0</td>\n",
       "      <td>1</td>\n",
       "      <td>1.0</td>\n",
       "      <td>4.0</td>\n",
       "      <td>1960.0</td>\n",
       "      <td>2</td>\n",
       "      <td>2</td>\n",
       "      <td>0.333</td>\n",
       "      <td>0.0</td>\n",
       "      <td>1.0</td>\n",
       "      <td>1.0</td>\n",
       "      <td>1</td>\n",
       "      <td>62588.0</td>\n",
       "      <td>中</td>\n",
       "      <td>6.0</td>\n",
       "    </tr>\n",
       "  </tbody>\n",
       "</table>\n",
       "</div>"
      ],
      "text/plain": [
       "          Lng        Lat  tradeTime  ...  communityAverage  floor_type  floor_height\n",
       "0  116.475489  40.019520       2016  ...           56021.0           高          26.0\n",
       "1  116.453917  39.881534       2016  ...           71539.0           高          22.0\n",
       "2  116.561978  39.877145       2016  ...           48160.0           中           4.0\n",
       "3  116.438010  40.076114       2016  ...           51238.0           底          21.0\n",
       "4  116.428392  39.886229       2016  ...           62588.0           中           6.0\n",
       "\n",
       "[5 rows x 22 columns]"
      ]
     },
     "execution_count": 28,
     "metadata": {},
     "output_type": "execute_result"
    }
   ],
   "source": [
    "data=data.drop(columns=['floor','url','id','Cid','price'])\n",
    "data.head()"
   ]
  },
  {
   "cell_type": "markdown",
   "id": "58d1c15f",
   "metadata": {},
   "source": [
    "### Now Let's Handle Categorical Data \n",
    "1> renovationCondition\n",
    "\n",
    "2> buildingStructure\n",
    "\n",
    "3> buildingType\n",
    "\n",
    "4> district\n",
    "\n",
    "5> elevator\n",
    "\n",
    "6> floor_type"
   ]
  },
  {
   "cell_type": "code",
   "execution_count": 29,
   "id": "d7334636",
   "metadata": {},
   "outputs": [
    {
     "name": "stdout",
     "output_type": "stream",
     "text": [
      "[1.    4.    3.      nan 2.    0.5   0.333 0.125 0.25  0.429 0.048 0.375\n",
      " 0.667]\n",
      "[3 4 1 2 0]\n",
      "[6 2 4 1 5 3 0]\n"
     ]
    }
   ],
   "source": [
    "#Let's Perform one hot encoding\n",
    "print(data.buildingType.unique())\n",
    "print(data.renovationCondition.unique())\n",
    "print(data.buildingStructure.unique())\n",
    "#so,for buildingType we have a data like 0.5   0.333 0.125 0.25  0.429 0.048 0.375 0.667\n",
    "# Which is unnecessary so,we have to remove them"
   ]
  },
  {
   "cell_type": "code",
   "execution_count": 30,
   "id": "bff5e0cf",
   "metadata": {},
   "outputs": [],
   "source": [
    "#Removing unnecessary data which is present in buildingType\n",
    "data=data[data['buildingType']>=1]"
   ]
  },
  {
   "cell_type": "code",
   "execution_count": 31,
   "id": "f82b8a81",
   "metadata": {},
   "outputs": [
    {
     "name": "stdout",
     "output_type": "stream",
     "text": [
      "[1. 4. 3. 2.]\n",
      "(316798, 22)\n"
     ]
    }
   ],
   "source": [
    "print(data.buildingType.unique())\n",
    "print(data.shape)"
   ]
  },
  {
   "cell_type": "code",
   "execution_count": 32,
   "id": "3473d461",
   "metadata": {},
   "outputs": [],
   "source": [
    "#let's take a copy of our data for future use\n",
    "df=data.copy()"
   ]
  },
  {
   "cell_type": "code",
   "execution_count": 33,
   "id": "846b57b9",
   "metadata": {},
   "outputs": [],
   "source": [
    "col_for_dummies=['renovationCondition','buildingStructure','buildingType',\n",
    "                 'district','elevator','floor_type']\n",
    "data=pd.get_dummies(data=data,columns=col_for_dummies,drop_first=True)"
   ]
  },
  {
   "cell_type": "code",
   "execution_count": 34,
   "id": "109fad6f",
   "metadata": {},
   "outputs": [
    {
     "data": {
      "text/html": [
       "<div>\n",
       "<style scoped>\n",
       "    .dataframe tbody tr th:only-of-type {\n",
       "        vertical-align: middle;\n",
       "    }\n",
       "\n",
       "    .dataframe tbody tr th {\n",
       "        vertical-align: top;\n",
       "    }\n",
       "\n",
       "    .dataframe thead th {\n",
       "        text-align: right;\n",
       "    }\n",
       "</style>\n",
       "<table border=\"1\" class=\"dataframe\">\n",
       "  <thead>\n",
       "    <tr style=\"text-align: right;\">\n",
       "      <th></th>\n",
       "      <th>Lng</th>\n",
       "      <th>Lat</th>\n",
       "      <th>tradeTime</th>\n",
       "      <th>followers</th>\n",
       "      <th>totalPrice</th>\n",
       "      <th>square</th>\n",
       "      <th>livingRoom</th>\n",
       "      <th>drawingRoom</th>\n",
       "      <th>kitchen</th>\n",
       "      <th>bathRoom</th>\n",
       "      <th>constructionTime</th>\n",
       "      <th>ladderRatio</th>\n",
       "      <th>fiveYearsProperty</th>\n",
       "      <th>subway</th>\n",
       "      <th>communityAverage</th>\n",
       "      <th>floor_height</th>\n",
       "      <th>renovationCondition_2</th>\n",
       "      <th>renovationCondition_3</th>\n",
       "      <th>renovationCondition_4</th>\n",
       "      <th>buildingStructure_2</th>\n",
       "      <th>buildingStructure_3</th>\n",
       "      <th>buildingStructure_4</th>\n",
       "      <th>buildingStructure_5</th>\n",
       "      <th>buildingStructure_6</th>\n",
       "      <th>buildingType_2.0</th>\n",
       "      <th>buildingType_3.0</th>\n",
       "      <th>buildingType_4.0</th>\n",
       "      <th>district_2</th>\n",
       "      <th>district_3</th>\n",
       "      <th>district_4</th>\n",
       "      <th>district_5</th>\n",
       "      <th>district_6</th>\n",
       "      <th>district_7</th>\n",
       "      <th>district_8</th>\n",
       "      <th>district_9</th>\n",
       "      <th>district_10</th>\n",
       "      <th>district_11</th>\n",
       "      <th>district_12</th>\n",
       "      <th>district_13</th>\n",
       "      <th>elevator_1.0</th>\n",
       "      <th>floor_type_低</th>\n",
       "      <th>floor_type_底</th>\n",
       "      <th>floor_type_未知</th>\n",
       "      <th>floor_type_顶</th>\n",
       "      <th>floor_type_高</th>\n",
       "    </tr>\n",
       "  </thead>\n",
       "  <tbody>\n",
       "    <tr>\n",
       "      <th>0</th>\n",
       "      <td>116.475489</td>\n",
       "      <td>40.019520</td>\n",
       "      <td>2016</td>\n",
       "      <td>106</td>\n",
       "      <td>415.0</td>\n",
       "      <td>131.00</td>\n",
       "      <td>2.0</td>\n",
       "      <td>1.0</td>\n",
       "      <td>1</td>\n",
       "      <td>1.0</td>\n",
       "      <td>2005.0</td>\n",
       "      <td>0.217</td>\n",
       "      <td>0.0</td>\n",
       "      <td>1.0</td>\n",
       "      <td>56021.0</td>\n",
       "      <td>26.0</td>\n",
       "      <td>0</td>\n",
       "      <td>1</td>\n",
       "      <td>0</td>\n",
       "      <td>0</td>\n",
       "      <td>0</td>\n",
       "      <td>0</td>\n",
       "      <td>0</td>\n",
       "      <td>1</td>\n",
       "      <td>0</td>\n",
       "      <td>0</td>\n",
       "      <td>0</td>\n",
       "      <td>0</td>\n",
       "      <td>0</td>\n",
       "      <td>0</td>\n",
       "      <td>0</td>\n",
       "      <td>0</td>\n",
       "      <td>1</td>\n",
       "      <td>0</td>\n",
       "      <td>0</td>\n",
       "      <td>0</td>\n",
       "      <td>0</td>\n",
       "      <td>0</td>\n",
       "      <td>0</td>\n",
       "      <td>1</td>\n",
       "      <td>0</td>\n",
       "      <td>0</td>\n",
       "      <td>0</td>\n",
       "      <td>0</td>\n",
       "      <td>1</td>\n",
       "    </tr>\n",
       "    <tr>\n",
       "      <th>1</th>\n",
       "      <td>116.453917</td>\n",
       "      <td>39.881534</td>\n",
       "      <td>2016</td>\n",
       "      <td>126</td>\n",
       "      <td>575.0</td>\n",
       "      <td>132.38</td>\n",
       "      <td>2.0</td>\n",
       "      <td>2.0</td>\n",
       "      <td>1</td>\n",
       "      <td>2.0</td>\n",
       "      <td>2004.0</td>\n",
       "      <td>0.667</td>\n",
       "      <td>1.0</td>\n",
       "      <td>0.0</td>\n",
       "      <td>71539.0</td>\n",
       "      <td>22.0</td>\n",
       "      <td>0</td>\n",
       "      <td>0</td>\n",
       "      <td>1</td>\n",
       "      <td>0</td>\n",
       "      <td>0</td>\n",
       "      <td>0</td>\n",
       "      <td>0</td>\n",
       "      <td>1</td>\n",
       "      <td>0</td>\n",
       "      <td>0</td>\n",
       "      <td>0</td>\n",
       "      <td>0</td>\n",
       "      <td>0</td>\n",
       "      <td>0</td>\n",
       "      <td>0</td>\n",
       "      <td>0</td>\n",
       "      <td>1</td>\n",
       "      <td>0</td>\n",
       "      <td>0</td>\n",
       "      <td>0</td>\n",
       "      <td>0</td>\n",
       "      <td>0</td>\n",
       "      <td>0</td>\n",
       "      <td>1</td>\n",
       "      <td>0</td>\n",
       "      <td>0</td>\n",
       "      <td>0</td>\n",
       "      <td>0</td>\n",
       "      <td>1</td>\n",
       "    </tr>\n",
       "    <tr>\n",
       "      <th>2</th>\n",
       "      <td>116.561978</td>\n",
       "      <td>39.877145</td>\n",
       "      <td>2016</td>\n",
       "      <td>48</td>\n",
       "      <td>1030.0</td>\n",
       "      <td>198.00</td>\n",
       "      <td>3.0</td>\n",
       "      <td>2.0</td>\n",
       "      <td>1</td>\n",
       "      <td>3.0</td>\n",
       "      <td>2005.0</td>\n",
       "      <td>0.500</td>\n",
       "      <td>0.0</td>\n",
       "      <td>0.0</td>\n",
       "      <td>48160.0</td>\n",
       "      <td>4.0</td>\n",
       "      <td>0</td>\n",
       "      <td>1</td>\n",
       "      <td>0</td>\n",
       "      <td>0</td>\n",
       "      <td>0</td>\n",
       "      <td>0</td>\n",
       "      <td>0</td>\n",
       "      <td>1</td>\n",
       "      <td>0</td>\n",
       "      <td>0</td>\n",
       "      <td>1</td>\n",
       "      <td>0</td>\n",
       "      <td>0</td>\n",
       "      <td>0</td>\n",
       "      <td>0</td>\n",
       "      <td>0</td>\n",
       "      <td>1</td>\n",
       "      <td>0</td>\n",
       "      <td>0</td>\n",
       "      <td>0</td>\n",
       "      <td>0</td>\n",
       "      <td>0</td>\n",
       "      <td>0</td>\n",
       "      <td>1</td>\n",
       "      <td>0</td>\n",
       "      <td>0</td>\n",
       "      <td>0</td>\n",
       "      <td>0</td>\n",
       "      <td>0</td>\n",
       "    </tr>\n",
       "    <tr>\n",
       "      <th>3</th>\n",
       "      <td>116.438010</td>\n",
       "      <td>40.076114</td>\n",
       "      <td>2016</td>\n",
       "      <td>138</td>\n",
       "      <td>297.5</td>\n",
       "      <td>134.00</td>\n",
       "      <td>3.0</td>\n",
       "      <td>1.0</td>\n",
       "      <td>1</td>\n",
       "      <td>1.0</td>\n",
       "      <td>2008.0</td>\n",
       "      <td>0.273</td>\n",
       "      <td>0.0</td>\n",
       "      <td>0.0</td>\n",
       "      <td>51238.0</td>\n",
       "      <td>21.0</td>\n",
       "      <td>0</td>\n",
       "      <td>0</td>\n",
       "      <td>0</td>\n",
       "      <td>0</td>\n",
       "      <td>0</td>\n",
       "      <td>0</td>\n",
       "      <td>0</td>\n",
       "      <td>1</td>\n",
       "      <td>0</td>\n",
       "      <td>0</td>\n",
       "      <td>0</td>\n",
       "      <td>0</td>\n",
       "      <td>0</td>\n",
       "      <td>0</td>\n",
       "      <td>0</td>\n",
       "      <td>1</td>\n",
       "      <td>0</td>\n",
       "      <td>0</td>\n",
       "      <td>0</td>\n",
       "      <td>0</td>\n",
       "      <td>0</td>\n",
       "      <td>0</td>\n",
       "      <td>0</td>\n",
       "      <td>1</td>\n",
       "      <td>0</td>\n",
       "      <td>1</td>\n",
       "      <td>0</td>\n",
       "      <td>0</td>\n",
       "      <td>0</td>\n",
       "    </tr>\n",
       "    <tr>\n",
       "      <th>4</th>\n",
       "      <td>116.428392</td>\n",
       "      <td>39.886229</td>\n",
       "      <td>2016</td>\n",
       "      <td>286</td>\n",
       "      <td>392.0</td>\n",
       "      <td>81.00</td>\n",
       "      <td>2.0</td>\n",
       "      <td>1.0</td>\n",
       "      <td>1</td>\n",
       "      <td>1.0</td>\n",
       "      <td>1960.0</td>\n",
       "      <td>0.333</td>\n",
       "      <td>1.0</td>\n",
       "      <td>1.0</td>\n",
       "      <td>62588.0</td>\n",
       "      <td>6.0</td>\n",
       "      <td>1</td>\n",
       "      <td>0</td>\n",
       "      <td>0</td>\n",
       "      <td>1</td>\n",
       "      <td>0</td>\n",
       "      <td>0</td>\n",
       "      <td>0</td>\n",
       "      <td>0</td>\n",
       "      <td>0</td>\n",
       "      <td>0</td>\n",
       "      <td>1</td>\n",
       "      <td>0</td>\n",
       "      <td>0</td>\n",
       "      <td>0</td>\n",
       "      <td>0</td>\n",
       "      <td>0</td>\n",
       "      <td>0</td>\n",
       "      <td>0</td>\n",
       "      <td>0</td>\n",
       "      <td>0</td>\n",
       "      <td>0</td>\n",
       "      <td>0</td>\n",
       "      <td>0</td>\n",
       "      <td>0</td>\n",
       "      <td>0</td>\n",
       "      <td>0</td>\n",
       "      <td>0</td>\n",
       "      <td>0</td>\n",
       "      <td>0</td>\n",
       "    </tr>\n",
       "  </tbody>\n",
       "</table>\n",
       "</div>"
      ],
      "text/plain": [
       "          Lng        Lat  tradeTime  ...  floor_type_未知  floor_type_顶  floor_type_高\n",
       "0  116.475489  40.019520       2016  ...              0             0             1\n",
       "1  116.453917  39.881534       2016  ...              0             0             1\n",
       "2  116.561978  39.877145       2016  ...              0             0             0\n",
       "3  116.438010  40.076114       2016  ...              0             0             0\n",
       "4  116.428392  39.886229       2016  ...              0             0             0\n",
       "\n",
       "[5 rows x 45 columns]"
      ]
     },
     "execution_count": 34,
     "metadata": {},
     "output_type": "execute_result"
    }
   ],
   "source": [
    "data.head()"
   ]
  },
  {
   "cell_type": "code",
   "execution_count": 35,
   "id": "a85fe406",
   "metadata": {},
   "outputs": [
    {
     "name": "stdout",
     "output_type": "stream",
     "text": [
      "(316798, 45)\n",
      "(318851, 26)\n"
     ]
    }
   ],
   "source": [
    "print(data.shape)\n",
    "print(df0.shape)"
   ]
  },
  {
   "cell_type": "code",
   "execution_count": 36,
   "id": "ba57f680",
   "metadata": {},
   "outputs": [],
   "source": [
    "data=data.dropna(axis=0)"
   ]
  },
  {
   "cell_type": "code",
   "execution_count": 37,
   "id": "33f12464",
   "metadata": {},
   "outputs": [
    {
     "name": "stdout",
     "output_type": "stream",
     "text": [
      "(297990, 45)\n"
     ]
    }
   ],
   "source": [
    "print(data.shape)"
   ]
  },
  {
   "cell_type": "code",
   "execution_count": 38,
   "id": "a6fcdba2",
   "metadata": {},
   "outputs": [
    {
     "data": {
      "text/plain": [
       "Index(['Lng', 'Lat', 'tradeTime', 'followers', 'totalPrice', 'square',\n",
       "       'livingRoom', 'drawingRoom', 'kitchen', 'bathRoom', 'constructionTime',\n",
       "       'ladderRatio', 'fiveYearsProperty', 'subway', 'communityAverage',\n",
       "       'floor_height', 'renovationCondition_2', 'renovationCondition_3',\n",
       "       'renovationCondition_4', 'buildingStructure_2', 'buildingStructure_3',\n",
       "       'buildingStructure_4', 'buildingStructure_5', 'buildingStructure_6',\n",
       "       'buildingType_2.0', 'buildingType_3.0', 'buildingType_4.0',\n",
       "       'district_2', 'district_3', 'district_4', 'district_5', 'district_6',\n",
       "       'district_7', 'district_8', 'district_9', 'district_10', 'district_11',\n",
       "       'district_12', 'district_13', 'elevator_1.0', 'floor_type_低',\n",
       "       'floor_type_底', 'floor_type_未知', 'floor_type_顶', 'floor_type_高'],\n",
       "      dtype='object')"
      ]
     },
     "execution_count": 38,
     "metadata": {},
     "output_type": "execute_result"
    }
   ],
   "source": [
    "data.columns"
   ]
  },
  {
   "cell_type": "markdown",
   "id": "0a23641f",
   "metadata": {},
   "source": [
    "## EDA  "
   ]
  },
  {
   "cell_type": "code",
   "execution_count": 39,
   "id": "a1422f52",
   "metadata": {},
   "outputs": [],
   "source": [
    "df1=data[['Lng','Lat','tradeTime','totalPrice','followers','followers','livingRoom','drawingRoom','kitchen',\n",
    "    'bathRoom','square','communityAverage','ladderRatio']]"
   ]
  },
  {
   "cell_type": "code",
   "execution_count": 40,
   "id": "bd9931ec",
   "metadata": {},
   "outputs": [
    {
     "data": {
      "image/png": "[encoded data removed]",
      "text/plain": [
       "<Figure size 1440x1440 with 2 Axes>"
      ]
     },
     "metadata": {
      "needs_background": "light"
     },
     "output_type": "display_data"
    }
   ],
   "source": [
    "plt.figure(figsize=(20,20))\n",
    "sns.heatmap(df1.corr(),annot=True,cmap = \"RdYlGn\")\n",
    "plt.show()"
   ]
  },
  {
   "cell_type": "markdown",
   "id": "01656674",
   "metadata": {},
   "source": [
    "Summary of Heat-Map\n",
    "\n",
    "i> totalPrice is highly corellated with community average,square,bathroom,livingroom and Trde Time.\n",
    "\n",
    "ii> totalprice is highly negative corellated with ladderRatio,lat and lng."
   ]
  },
  {
   "cell_type": "markdown",
   "id": "fd2e2c7b",
   "metadata": {},
   "source": [
    "Density Plot"
   ]
  },
  {
   "cell_type": "code",
   "execution_count": 41,
   "id": "c9257993",
   "metadata": {},
   "outputs": [
    {
     "data": {
      "text/plain": [
       "<AxesSubplot:xlabel='totalPrice', ylabel='Density'>"
      ]
     },
     "execution_count": 41,
     "metadata": {},
     "output_type": "execute_result"
    },
    {
     "data": {
      "image/png": "[encoded data removed]",
      "text/plain": [
       "<Figure size 432x288 with 1 Axes>"
      ]
     },
     "metadata": {
      "needs_background": "light"
     },
     "output_type": "display_data"
    }
   ],
   "source": [
    "sns.kdeplot(data=data['totalPrice'],shade=True)"
   ]
  },
  {
   "cell_type": "markdown",
   "id": "6feb4001",
   "metadata": {},
   "source": [
    "So,our most of the output features is lies between 0-2500"
   ]
  },
  {
   "cell_type": "code",
   "execution_count": 42,
   "id": "966d94a2",
   "metadata": {},
   "outputs": [
    {
     "data": {
      "text/plain": [
       "count    297990.000000\n",
       "mean        349.178136\n",
       "std         224.530679\n",
       "min           0.100000\n",
       "25%         205.000000\n",
       "50%         295.000000\n",
       "75%         427.000000\n",
       "max        4900.000000\n",
       "Name: totalPrice, dtype: float64"
      ]
     },
     "execution_count": 42,
     "metadata": {},
     "output_type": "execute_result"
    }
   ],
   "source": [
    "data['totalPrice'].describe()"
   ]
  },
  {
   "cell_type": "code",
   "execution_count": 43,
   "id": "a6d0cedb",
   "metadata": {
    "scrolled": true
   },
   "outputs": [
    {
     "data": {
      "text/html": [
       "<div>\n",
       "<style scoped>\n",
       "    .dataframe tbody tr th:only-of-type {\n",
       "        vertical-align: middle;\n",
       "    }\n",
       "\n",
       "    .dataframe tbody tr th {\n",
       "        vertical-align: top;\n",
       "    }\n",
       "\n",
       "    .dataframe thead th {\n",
       "        text-align: right;\n",
       "    }\n",
       "</style>\n",
       "<table border=\"1\" class=\"dataframe\">\n",
       "  <thead>\n",
       "    <tr style=\"text-align: right;\">\n",
       "      <th></th>\n",
       "      <th>Lng</th>\n",
       "      <th>Lat</th>\n",
       "      <th>tradeTime</th>\n",
       "      <th>followers</th>\n",
       "      <th>totalPrice</th>\n",
       "      <th>square</th>\n",
       "      <th>livingRoom</th>\n",
       "      <th>drawingRoom</th>\n",
       "      <th>kitchen</th>\n",
       "      <th>bathRoom</th>\n",
       "      <th>buildingType</th>\n",
       "      <th>constructionTime</th>\n",
       "      <th>renovationCondition</th>\n",
       "      <th>buildingStructure</th>\n",
       "      <th>ladderRatio</th>\n",
       "      <th>elevator</th>\n",
       "      <th>fiveYearsProperty</th>\n",
       "      <th>subway</th>\n",
       "      <th>district</th>\n",
       "      <th>communityAverage</th>\n",
       "      <th>floor_type</th>\n",
       "      <th>floor_height</th>\n",
       "    </tr>\n",
       "  </thead>\n",
       "  <tbody>\n",
       "    <tr>\n",
       "      <th>0</th>\n",
       "      <td>116.475489</td>\n",
       "      <td>40.019520</td>\n",
       "      <td>2016</td>\n",
       "      <td>106</td>\n",
       "      <td>415.0</td>\n",
       "      <td>131.00</td>\n",
       "      <td>2.0</td>\n",
       "      <td>1.0</td>\n",
       "      <td>1</td>\n",
       "      <td>1.0</td>\n",
       "      <td>1.0</td>\n",
       "      <td>2005.0</td>\n",
       "      <td>3</td>\n",
       "      <td>6</td>\n",
       "      <td>0.217</td>\n",
       "      <td>1.0</td>\n",
       "      <td>0.0</td>\n",
       "      <td>1.0</td>\n",
       "      <td>7</td>\n",
       "      <td>56021.0</td>\n",
       "      <td>高</td>\n",
       "      <td>26.0</td>\n",
       "    </tr>\n",
       "    <tr>\n",
       "      <th>1</th>\n",
       "      <td>116.453917</td>\n",
       "      <td>39.881534</td>\n",
       "      <td>2016</td>\n",
       "      <td>126</td>\n",
       "      <td>575.0</td>\n",
       "      <td>132.38</td>\n",
       "      <td>2.0</td>\n",
       "      <td>2.0</td>\n",
       "      <td>1</td>\n",
       "      <td>2.0</td>\n",
       "      <td>1.0</td>\n",
       "      <td>2004.0</td>\n",
       "      <td>4</td>\n",
       "      <td>6</td>\n",
       "      <td>0.667</td>\n",
       "      <td>1.0</td>\n",
       "      <td>1.0</td>\n",
       "      <td>0.0</td>\n",
       "      <td>7</td>\n",
       "      <td>71539.0</td>\n",
       "      <td>高</td>\n",
       "      <td>22.0</td>\n",
       "    </tr>\n",
       "    <tr>\n",
       "      <th>2</th>\n",
       "      <td>116.561978</td>\n",
       "      <td>39.877145</td>\n",
       "      <td>2016</td>\n",
       "      <td>48</td>\n",
       "      <td>1030.0</td>\n",
       "      <td>198.00</td>\n",
       "      <td>3.0</td>\n",
       "      <td>2.0</td>\n",
       "      <td>1</td>\n",
       "      <td>3.0</td>\n",
       "      <td>4.0</td>\n",
       "      <td>2005.0</td>\n",
       "      <td>3</td>\n",
       "      <td>6</td>\n",
       "      <td>0.500</td>\n",
       "      <td>1.0</td>\n",
       "      <td>0.0</td>\n",
       "      <td>0.0</td>\n",
       "      <td>7</td>\n",
       "      <td>48160.0</td>\n",
       "      <td>中</td>\n",
       "      <td>4.0</td>\n",
       "    </tr>\n",
       "    <tr>\n",
       "      <th>3</th>\n",
       "      <td>116.438010</td>\n",
       "      <td>40.076114</td>\n",
       "      <td>2016</td>\n",
       "      <td>138</td>\n",
       "      <td>297.5</td>\n",
       "      <td>134.00</td>\n",
       "      <td>3.0</td>\n",
       "      <td>1.0</td>\n",
       "      <td>1</td>\n",
       "      <td>1.0</td>\n",
       "      <td>1.0</td>\n",
       "      <td>2008.0</td>\n",
       "      <td>1</td>\n",
       "      <td>6</td>\n",
       "      <td>0.273</td>\n",
       "      <td>1.0</td>\n",
       "      <td>0.0</td>\n",
       "      <td>0.0</td>\n",
       "      <td>6</td>\n",
       "      <td>51238.0</td>\n",
       "      <td>底</td>\n",
       "      <td>21.0</td>\n",
       "    </tr>\n",
       "    <tr>\n",
       "      <th>4</th>\n",
       "      <td>116.428392</td>\n",
       "      <td>39.886229</td>\n",
       "      <td>2016</td>\n",
       "      <td>286</td>\n",
       "      <td>392.0</td>\n",
       "      <td>81.00</td>\n",
       "      <td>2.0</td>\n",
       "      <td>1.0</td>\n",
       "      <td>1</td>\n",
       "      <td>1.0</td>\n",
       "      <td>4.0</td>\n",
       "      <td>1960.0</td>\n",
       "      <td>2</td>\n",
       "      <td>2</td>\n",
       "      <td>0.333</td>\n",
       "      <td>0.0</td>\n",
       "      <td>1.0</td>\n",
       "      <td>1.0</td>\n",
       "      <td>1</td>\n",
       "      <td>62588.0</td>\n",
       "      <td>中</td>\n",
       "      <td>6.0</td>\n",
       "    </tr>\n",
       "  </tbody>\n",
       "</table>\n",
       "</div>"
      ],
      "text/plain": [
       "          Lng        Lat  tradeTime  ...  communityAverage  floor_type  floor_height\n",
       "0  116.475489  40.019520       2016  ...           56021.0           高          26.0\n",
       "1  116.453917  39.881534       2016  ...           71539.0           高          22.0\n",
       "2  116.561978  39.877145       2016  ...           48160.0           中           4.0\n",
       "3  116.438010  40.076114       2016  ...           51238.0           底          21.0\n",
       "4  116.428392  39.886229       2016  ...           62588.0           中           6.0\n",
       "\n",
       "[5 rows x 22 columns]"
      ]
     },
     "execution_count": 43,
     "metadata": {},
     "output_type": "execute_result"
    }
   ],
   "source": [
    "df.head()"
   ]
  },
  {
   "cell_type": "code",
   "execution_count": 44,
   "id": "77467c9a",
   "metadata": {},
   "outputs": [
    {
     "data": {
      "text/plain": [
       "<AxesSubplot:xlabel='followers', ylabel='communityAverage'>"
      ]
     },
     "execution_count": 44,
     "metadata": {},
     "output_type": "execute_result"
    },
    {
     "data": {
      "image/png": "[encoded data removed]",
      "text/plain": [
       "<Figure size 432x288 with 1 Axes>"
      ]
     },
     "metadata": {
      "needs_background": "light"
     },
     "output_type": "display_data"
    }
   ],
   "source": [
    "sns.scatterplot(x=df['followers'],y=df['communityAverage'],hue=df['elevator'])"
   ]
  },
  {
   "cell_type": "code",
   "execution_count": 45,
   "id": "ae13c4cd",
   "metadata": {},
   "outputs": [
    {
     "data": {
      "text/plain": [
       "<AxesSubplot:xlabel='totalPrice', ylabel='communityAverage'>"
      ]
     },
     "execution_count": 45,
     "metadata": {},
     "output_type": "execute_result"
    },
    {
     "data": {
      "image/png": "[encoded data removed]",
      "text/plain": [
       "<Figure size 432x288 with 1 Axes>"
      ]
     },
     "metadata": {
      "needs_background": "light"
     },
     "output_type": "display_data"
    }
   ],
   "source": [
    "sns.scatterplot(x=df['totalPrice'],y=df['communityAverage'],hue=df['renovationCondition'])"
   ]
  },
  {
   "cell_type": "markdown",
   "id": "c37029d5",
   "metadata": {},
   "source": [
    "So,most of the expensive houses have HardCover as a renovation condition"
   ]
  },
  {
   "cell_type": "code",
   "execution_count": 46,
   "id": "5d27a2f1",
   "metadata": {},
   "outputs": [],
   "source": [
    "# sns.swarmplot(x=df['renovationCondition'],\n",
    "#               y=df['followers'])"
   ]
  },
  {
   "cell_type": "code",
   "execution_count": 47,
   "id": "000b2c14",
   "metadata": {},
   "outputs": [
    {
     "data": {
      "text/plain": [
       "<AxesSubplot:ylabel='communityAverage'>"
      ]
     },
     "execution_count": 47,
     "metadata": {},
     "output_type": "execute_result"
    },
    {
     "data": {
      "image/png": "[encoded data removed]",
      "text/plain": [
       "<Figure size 432x288 with 1 Axes>"
      ]
     },
     "metadata": {
      "needs_background": "light"
     },
     "output_type": "display_data"
    }
   ],
   "source": [
    "sns.lineplot(data=df['communityAverage'])"
   ]
  },
  {
   "cell_type": "markdown",
   "id": "032c1f0c",
   "metadata": {},
   "source": [
    "Most of the peoples average are lies in 12500-150000 ..."
   ]
  },
  {
   "cell_type": "code",
   "execution_count": 48,
   "id": "ebbe0115",
   "metadata": {},
   "outputs": [
    {
     "data": {
      "text/html": [
       "<div>\n",
       "<style scoped>\n",
       "    .dataframe tbody tr th:only-of-type {\n",
       "        vertical-align: middle;\n",
       "    }\n",
       "\n",
       "    .dataframe tbody tr th {\n",
       "        vertical-align: top;\n",
       "    }\n",
       "\n",
       "    .dataframe thead th {\n",
       "        text-align: right;\n",
       "    }\n",
       "</style>\n",
       "<table border=\"1\" class=\"dataframe\">\n",
       "  <thead>\n",
       "    <tr style=\"text-align: right;\">\n",
       "      <th></th>\n",
       "      <th>Lng</th>\n",
       "      <th>Lat</th>\n",
       "      <th>tradeTime</th>\n",
       "      <th>followers</th>\n",
       "      <th>totalPrice</th>\n",
       "      <th>square</th>\n",
       "      <th>livingRoom</th>\n",
       "      <th>drawingRoom</th>\n",
       "      <th>kitchen</th>\n",
       "      <th>bathRoom</th>\n",
       "      <th>constructionTime</th>\n",
       "      <th>ladderRatio</th>\n",
       "      <th>fiveYearsProperty</th>\n",
       "      <th>subway</th>\n",
       "      <th>communityAverage</th>\n",
       "      <th>floor_height</th>\n",
       "      <th>renovationCondition_2</th>\n",
       "      <th>renovationCondition_3</th>\n",
       "      <th>renovationCondition_4</th>\n",
       "      <th>buildingStructure_2</th>\n",
       "      <th>buildingStructure_3</th>\n",
       "      <th>buildingStructure_4</th>\n",
       "      <th>buildingStructure_5</th>\n",
       "      <th>buildingStructure_6</th>\n",
       "      <th>buildingType_2.0</th>\n",
       "      <th>buildingType_3.0</th>\n",
       "      <th>buildingType_4.0</th>\n",
       "      <th>district_2</th>\n",
       "      <th>district_3</th>\n",
       "      <th>district_4</th>\n",
       "      <th>district_5</th>\n",
       "      <th>district_6</th>\n",
       "      <th>district_7</th>\n",
       "      <th>district_8</th>\n",
       "      <th>district_9</th>\n",
       "      <th>district_10</th>\n",
       "      <th>district_11</th>\n",
       "      <th>district_12</th>\n",
       "      <th>district_13</th>\n",
       "      <th>elevator_1.0</th>\n",
       "      <th>floor_type_低</th>\n",
       "      <th>floor_type_底</th>\n",
       "      <th>floor_type_未知</th>\n",
       "      <th>floor_type_顶</th>\n",
       "      <th>floor_type_高</th>\n",
       "    </tr>\n",
       "  </thead>\n",
       "  <tbody>\n",
       "    <tr>\n",
       "      <th>0</th>\n",
       "      <td>116.475489</td>\n",
       "      <td>40.019520</td>\n",
       "      <td>2016</td>\n",
       "      <td>106</td>\n",
       "      <td>415.0</td>\n",
       "      <td>131.00</td>\n",
       "      <td>2.0</td>\n",
       "      <td>1.0</td>\n",
       "      <td>1</td>\n",
       "      <td>1.0</td>\n",
       "      <td>2005.0</td>\n",
       "      <td>0.217</td>\n",
       "      <td>0.0</td>\n",
       "      <td>1.0</td>\n",
       "      <td>56021.0</td>\n",
       "      <td>26.0</td>\n",
       "      <td>0</td>\n",
       "      <td>1</td>\n",
       "      <td>0</td>\n",
       "      <td>0</td>\n",
       "      <td>0</td>\n",
       "      <td>0</td>\n",
       "      <td>0</td>\n",
       "      <td>1</td>\n",
       "      <td>0</td>\n",
       "      <td>0</td>\n",
       "      <td>0</td>\n",
       "      <td>0</td>\n",
       "      <td>0</td>\n",
       "      <td>0</td>\n",
       "      <td>0</td>\n",
       "      <td>0</td>\n",
       "      <td>1</td>\n",
       "      <td>0</td>\n",
       "      <td>0</td>\n",
       "      <td>0</td>\n",
       "      <td>0</td>\n",
       "      <td>0</td>\n",
       "      <td>0</td>\n",
       "      <td>1</td>\n",
       "      <td>0</td>\n",
       "      <td>0</td>\n",
       "      <td>0</td>\n",
       "      <td>0</td>\n",
       "      <td>1</td>\n",
       "    </tr>\n",
       "    <tr>\n",
       "      <th>1</th>\n",
       "      <td>116.453917</td>\n",
       "      <td>39.881534</td>\n",
       "      <td>2016</td>\n",
       "      <td>126</td>\n",
       "      <td>575.0</td>\n",
       "      <td>132.38</td>\n",
       "      <td>2.0</td>\n",
       "      <td>2.0</td>\n",
       "      <td>1</td>\n",
       "      <td>2.0</td>\n",
       "      <td>2004.0</td>\n",
       "      <td>0.667</td>\n",
       "      <td>1.0</td>\n",
       "      <td>0.0</td>\n",
       "      <td>71539.0</td>\n",
       "      <td>22.0</td>\n",
       "      <td>0</td>\n",
       "      <td>0</td>\n",
       "      <td>1</td>\n",
       "      <td>0</td>\n",
       "      <td>0</td>\n",
       "      <td>0</td>\n",
       "      <td>0</td>\n",
       "      <td>1</td>\n",
       "      <td>0</td>\n",
       "      <td>0</td>\n",
       "      <td>0</td>\n",
       "      <td>0</td>\n",
       "      <td>0</td>\n",
       "      <td>0</td>\n",
       "      <td>0</td>\n",
       "      <td>0</td>\n",
       "      <td>1</td>\n",
       "      <td>0</td>\n",
       "      <td>0</td>\n",
       "      <td>0</td>\n",
       "      <td>0</td>\n",
       "      <td>0</td>\n",
       "      <td>0</td>\n",
       "      <td>1</td>\n",
       "      <td>0</td>\n",
       "      <td>0</td>\n",
       "      <td>0</td>\n",
       "      <td>0</td>\n",
       "      <td>1</td>\n",
       "    </tr>\n",
       "    <tr>\n",
       "      <th>2</th>\n",
       "      <td>116.561978</td>\n",
       "      <td>39.877145</td>\n",
       "      <td>2016</td>\n",
       "      <td>48</td>\n",
       "      <td>1030.0</td>\n",
       "      <td>198.00</td>\n",
       "      <td>3.0</td>\n",
       "      <td>2.0</td>\n",
       "      <td>1</td>\n",
       "      <td>3.0</td>\n",
       "      <td>2005.0</td>\n",
       "      <td>0.500</td>\n",
       "      <td>0.0</td>\n",
       "      <td>0.0</td>\n",
       "      <td>48160.0</td>\n",
       "      <td>4.0</td>\n",
       "      <td>0</td>\n",
       "      <td>1</td>\n",
       "      <td>0</td>\n",
       "      <td>0</td>\n",
       "      <td>0</td>\n",
       "      <td>0</td>\n",
       "      <td>0</td>\n",
       "      <td>1</td>\n",
       "      <td>0</td>\n",
       "      <td>0</td>\n",
       "      <td>1</td>\n",
       "      <td>0</td>\n",
       "      <td>0</td>\n",
       "      <td>0</td>\n",
       "      <td>0</td>\n",
       "      <td>0</td>\n",
       "      <td>1</td>\n",
       "      <td>0</td>\n",
       "      <td>0</td>\n",
       "      <td>0</td>\n",
       "      <td>0</td>\n",
       "      <td>0</td>\n",
       "      <td>0</td>\n",
       "      <td>1</td>\n",
       "      <td>0</td>\n",
       "      <td>0</td>\n",
       "      <td>0</td>\n",
       "      <td>0</td>\n",
       "      <td>0</td>\n",
       "    </tr>\n",
       "    <tr>\n",
       "      <th>3</th>\n",
       "      <td>116.438010</td>\n",
       "      <td>40.076114</td>\n",
       "      <td>2016</td>\n",
       "      <td>138</td>\n",
       "      <td>297.5</td>\n",
       "      <td>134.00</td>\n",
       "      <td>3.0</td>\n",
       "      <td>1.0</td>\n",
       "      <td>1</td>\n",
       "      <td>1.0</td>\n",
       "      <td>2008.0</td>\n",
       "      <td>0.273</td>\n",
       "      <td>0.0</td>\n",
       "      <td>0.0</td>\n",
       "      <td>51238.0</td>\n",
       "      <td>21.0</td>\n",
       "      <td>0</td>\n",
       "      <td>0</td>\n",
       "      <td>0</td>\n",
       "      <td>0</td>\n",
       "      <td>0</td>\n",
       "      <td>0</td>\n",
       "      <td>0</td>\n",
       "      <td>1</td>\n",
       "      <td>0</td>\n",
       "      <td>0</td>\n",
       "      <td>0</td>\n",
       "      <td>0</td>\n",
       "      <td>0</td>\n",
       "      <td>0</td>\n",
       "      <td>0</td>\n",
       "      <td>1</td>\n",
       "      <td>0</td>\n",
       "      <td>0</td>\n",
       "      <td>0</td>\n",
       "      <td>0</td>\n",
       "      <td>0</td>\n",
       "      <td>0</td>\n",
       "      <td>0</td>\n",
       "      <td>1</td>\n",
       "      <td>0</td>\n",
       "      <td>1</td>\n",
       "      <td>0</td>\n",
       "      <td>0</td>\n",
       "      <td>0</td>\n",
       "    </tr>\n",
       "    <tr>\n",
       "      <th>4</th>\n",
       "      <td>116.428392</td>\n",
       "      <td>39.886229</td>\n",
       "      <td>2016</td>\n",
       "      <td>286</td>\n",
       "      <td>392.0</td>\n",
       "      <td>81.00</td>\n",
       "      <td>2.0</td>\n",
       "      <td>1.0</td>\n",
       "      <td>1</td>\n",
       "      <td>1.0</td>\n",
       "      <td>1960.0</td>\n",
       "      <td>0.333</td>\n",
       "      <td>1.0</td>\n",
       "      <td>1.0</td>\n",
       "      <td>62588.0</td>\n",
       "      <td>6.0</td>\n",
       "      <td>1</td>\n",
       "      <td>0</td>\n",
       "      <td>0</td>\n",
       "      <td>1</td>\n",
       "      <td>0</td>\n",
       "      <td>0</td>\n",
       "      <td>0</td>\n",
       "      <td>0</td>\n",
       "      <td>0</td>\n",
       "      <td>0</td>\n",
       "      <td>1</td>\n",
       "      <td>0</td>\n",
       "      <td>0</td>\n",
       "      <td>0</td>\n",
       "      <td>0</td>\n",
       "      <td>0</td>\n",
       "      <td>0</td>\n",
       "      <td>0</td>\n",
       "      <td>0</td>\n",
       "      <td>0</td>\n",
       "      <td>0</td>\n",
       "      <td>0</td>\n",
       "      <td>0</td>\n",
       "      <td>0</td>\n",
       "      <td>0</td>\n",
       "      <td>0</td>\n",
       "      <td>0</td>\n",
       "      <td>0</td>\n",
       "      <td>0</td>\n",
       "    </tr>\n",
       "  </tbody>\n",
       "</table>\n",
       "</div>"
      ],
      "text/plain": [
       "          Lng        Lat  tradeTime  ...  floor_type_未知  floor_type_顶  floor_type_高\n",
       "0  116.475489  40.019520       2016  ...              0             0             1\n",
       "1  116.453917  39.881534       2016  ...              0             0             1\n",
       "2  116.561978  39.877145       2016  ...              0             0             0\n",
       "3  116.438010  40.076114       2016  ...              0             0             0\n",
       "4  116.428392  39.886229       2016  ...              0             0             0\n",
       "\n",
       "[5 rows x 45 columns]"
      ]
     },
     "execution_count": 48,
     "metadata": {},
     "output_type": "execute_result"
    }
   ],
   "source": [
    "data.head()"
   ]
  },
  {
   "cell_type": "code",
   "execution_count": 49,
   "id": "54ae3cdc",
   "metadata": {},
   "outputs": [
    {
     "data": {
      "text/plain": [
       "(297990, 45)"
      ]
     },
     "execution_count": 49,
     "metadata": {},
     "output_type": "execute_result"
    }
   ],
   "source": [
    "data.shape"
   ]
  },
  {
   "cell_type": "markdown",
   "id": "f92a32e2",
   "metadata": {},
   "source": [
    "#### Save the updated data in CSV Format "
   ]
  },
  {
   "cell_type": "code",
   "execution_count": 50,
   "id": "3a9fd00a",
   "metadata": {},
   "outputs": [],
   "source": [
    "data.to_csv(\"After_EDA.csv\")"
   ]
  },
  {
   "cell_type": "code",
   "execution_count": null,
   "id": "e33563a5",
   "metadata": {},
   "outputs": [],
   "source": []
  },
  {
   "cell_type": "code",
   "execution_count": null,
   "id": "baf739dc",
   "metadata": {},
   "outputs": [],
   "source": []
  },
  {
   "cell_type": "code",
   "execution_count": null,
   "id": "921fa400",
   "metadata": {},
   "outputs": [],
   "source": []
  },
  {
   "cell_type": "code",
   "execution_count": null,
   "id": "41e2cfd1",
   "metadata": {},
   "outputs": [],
   "source": []
  }
 ],
 "metadata": {
  "kernelspec": {
   "display_name": "Python 3 (ipykernel)",
   "language": "python",
   "name": "python3"
  },
  "language_info": {
   "codemirror_mode": {
    "name": "ipython",
    "version": 3
   },
   "file_extension": ".py",
   "mimetype": "text/x-python",
   "name": "python",
   "nbconvert_exporter": "python",
   "pygments_lexer": "ipython3",
   "version": "3.8.10"
  }
 },
 "nbformat": 4,
 "nbformat_minor": 5
}
